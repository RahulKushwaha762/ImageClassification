{
 "cells": [
  {
   "cell_type": "code",
   "execution_count": null,
   "metadata": {},
   "outputs": [],
   "source": [
    "\n",
    "#import libraries cnn is sequential of layers\n",
    "from tensorflow.keras.models import Sequential\n",
    "from tensorflow.keras.layers import Convolution2D #CNN LAYERS\n",
    "from tensorflow.keras.layers import MaxPooling2D # pooling\n",
    "from tensorflow.keras.layers import Flatten\n",
    "from tensorflow.keras.layers import Dense\n",
    "\n",
    "#initialising the cnn\n",
    "classifier = Sequential()\n",
    "\n",
    "\n",
    "\"\"\"\n",
    "convolution-max pooling-flatening-full connection\n",
    "\"\"\"\n",
    "\n",
    "#adding first convolution layer\n",
    "#specifying number of feature detectors to get various feature maps \n",
    "#parameters are filters (feature detector)(32 feature detectors of 3x3) colored goes to 3 channels (rgb) each pixels\n",
    "#rectifier for non linearity\n",
    "classifier.add(Convolution2D(32,3,3,input_shape=(64,64,3),activation = 'relu'))\n",
    "\n",
    "#max pooling choosing maximum values of pixel with two stride movement\n",
    "#to reduce number of nodes\n",
    "classifier.add(MaxPooling2D(pool_size = (2,2)))\n",
    "\n",
    "#FLATTENING \n",
    "classifier.add(Flatten())\n",
    "\n",
    "#step 4\n",
    "#full connection\n",
    "classifier.add(Dense(units = 128,activation = 'relu'))\n",
    "classifier.add(Dense(units = 1,activation = 'sigmoid'))\n",
    "\n",
    "#compiling the cnn\n",
    "classifier.compile(optimizer = 'adam',loss = 'binary_crossentropy',metrics = ['accuracy'])\n",
    "\n",
    "#fitting cnn to the images , image augmentation process, to reduce overfitting\n",
    "from keras.preprocessing.image import ImageDataGenerator\n",
    "\n",
    "train_datagen = ImageDataGenerator(\n",
    "        rescale=1./255,\n",
    "        shear_range=0.2,\n",
    "        zoom_range=0.2,\n",
    "        horizontal_flip=True)\n",
    "\n",
    "test_datagen = ImageDataGenerator(rescale=1./255)\n",
    "\n",
    "training_set = train_datagen.flow_from_directory(\n",
    "        'dataset/training_set',\n",
    "        target_size=(64, 64),\n",
    "        batch_size=32,\n",
    "        class_mode='binary')\n",
    "\n",
    "test_set = test_datagen.flow_from_directory(\n",
    "        'dataset/test_set',\n",
    "        target_size=(64, 64),\n",
    "        batch_size=32,\n",
    "        class_mode='binary')\n",
    "\n",
    "classifier.fit_generator(\n",
    "        training_set,\n",
    "        steps_per_epoch=1000,\n",
    "        epochs=2,\n",
    "        validation_data=test_set,\n",
    "        validation_steps=2000)\n",
    "\n",
    "classifier.save('model.h5')"
   ]
  },
  {
   "cell_type": "code",
   "execution_count": null,
   "metadata": {},
   "outputs": [],
   "source": [
    "classifier.save('model.h5')"
   ]
  },
  {
   "cell_type": "markdown",
   "metadata": {},
   "source": [
    "# to recognise image from the given image in a given directory"
   ]
  },
  {
   "cell_type": "code",
   "execution_count": 2,
   "metadata": {},
   "outputs": [
    {
     "name": "stdout",
     "output_type": "stream",
     "text": [
      "[[1]]\n",
      "Dog\n"
     ]
    }
   ],
   "source": [
    "\n",
    "imgg = cv2.imread('test.jpg')\n",
    "img=np.array(tf.image.convert_image_dtype(imgg,tf.float32))\n",
    "img = cv2.resize(img,(64,64))\n",
    "img = np.reshape(img,[1,64,64,3])\n",
    "classes = model.predict_classes(img)\n",
    "print(classes)\n",
    "for i in range(1):\n",
    "    if classes[i]==0:\n",
    "        print('billi')\n",
    "    else:\n",
    "        print('Dog')"
   ]
  },
  {
   "cell_type": "markdown",
   "metadata": {},
   "source": [
    "# recognise by using Image Grab , using screen capture"
   ]
  },
  {
   "cell_type": "code",
   "execution_count": null,
   "metadata": {},
   "outputs": [],
   "source": [
    "from PIL import ImageGrab\n",
    "import cv2\n",
    "import time\n",
    "import numpy as np\n",
    "font = cv2.FONT_HERSHEY_SIMPLEX\n",
    "\n",
    "import cv2\n",
    "import numpy as np\n",
    "import tensorflow as tf \n",
    "model = tf.keras.models.load_model('model.h5')\n",
    "model.compile(loss='binary_crossentropy', optimizer='rmsprop', metrics=['accuracy'])\n",
    "\n",
    "last_time = time.time()\n",
    "out = 'check photo'\n",
    "\n",
    "while(True):\n",
    "    printscreen_pil =  np.array(ImageGrab.grab(bbox = (100,100,800,800)))\n",
    "    print(time.time()-last_time)\n",
    "    last_time = time.time()\n",
    "    img= cv2.cvtColor(np.array(printscreen_pil),cv2.COLOR_BGR2RGB)\n",
    "    cv2.namedWindow('window',cv2.WINDOW_NORMAL)\n",
    "    cv2.putText(img,out,(10,500), font, 2,(0,255,255),2,cv2.LINE_AA)\n",
    "    cv2.imshow('window',img)\n",
    "    \n",
    "    cv2.imwrite('test.jpg',img)\n",
    "    img = cv2.resize(img,(64,64))\n",
    "    newimg = np.reshape(img,[1,64,64,3])\n",
    "    img = np.array(tf.image.convert_image_dtype(newimg,tf.float32))\n",
    "    classes = model.predict_classes(img)\n",
    "    for i in range(1):\n",
    "        if classes[i]==0:\n",
    "            print('output: Cat')\n",
    "            out = 'output: Cat'\n",
    "\n",
    "        else:\n",
    "            print('output: Dog')\n",
    "            out = 'output: Dog'\n",
    "        \n",
    "    if cv2.waitKey(1) & 0xFF == ord('q'):\n",
    "        break\n",
    "cv2.destroyAllWindows()   "
   ]
  },
  {
   "cell_type": "code",
   "execution_count": null,
   "metadata": {},
   "outputs": [],
   "source": []
  }
 ],
 "metadata": {
  "kernelspec": {
   "display_name": "Python 3",
   "language": "python",
   "name": "python3"
  },
  "language_info": {
   "codemirror_mode": {
    "name": "ipython",
    "version": 3
   },
   "file_extension": ".py",
   "mimetype": "text/x-python",
   "name": "python",
   "nbconvert_exporter": "python",
   "pygments_lexer": "ipython3",
   "version": "3.7.3"
  }
 },
 "nbformat": 4,
 "nbformat_minor": 2
}
